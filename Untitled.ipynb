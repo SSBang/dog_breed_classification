{
 "cells": [
  {
   "cell_type": "code",
   "execution_count": 1,
   "metadata": {
    "ExecuteTime": {
     "end_time": "2018-03-18T13:12:15.491744Z",
     "start_time": "2018-03-18T13:12:05.255719Z"
    }
   },
   "outputs": [
    {
     "name": "stderr",
     "output_type": "stream",
     "text": [
      "Using TensorFlow backend.\n"
     ]
    }
   ],
   "source": [
    "import os\n",
    "import numpy as np\n",
    "import pandas as pd\n",
    "from PIL import Image\n",
    "import matplotlib.pyplot as plt\n",
    "import matplotlib.image as mpimg\n",
    "\n",
    "import keras"
   ]
  },
  {
   "cell_type": "code",
   "execution_count": 2,
   "metadata": {
    "ExecuteTime": {
     "end_time": "2018-03-18T13:12:15.558744Z",
     "start_time": "2018-03-18T13:12:15.495730Z"
    }
   },
   "outputs": [],
   "source": [
    "from keras.applications.resnet50 import ResNet50\n",
    "from keras.models import Model\n",
    "from keras.layers import Dense, Dropout, Flatten\n",
    "from keras.utils import np_utils\n",
    "from keras.callbacks import TensorBoard\n",
    "%matplotlib inline"
   ]
  },
  {
   "cell_type": "code",
   "execution_count": 3,
   "metadata": {
    "ExecuteTime": {
     "end_time": "2018-03-18T13:12:18.667742Z",
     "start_time": "2018-03-18T13:12:15.561730Z"
    }
   },
   "outputs": [],
   "source": [
    "from sklearn import preprocessing\n",
    "from sklearn.model_selection import train_test_split"
   ]
  },
  {
   "cell_type": "code",
   "execution_count": 4,
   "metadata": {
    "ExecuteTime": {
     "end_time": "2018-03-18T13:12:18.677728Z",
     "start_time": "2018-03-18T13:12:18.670728Z"
    }
   },
   "outputs": [],
   "source": [
    "def jpg_image_to_array(image_path):\n",
    "  \"\"\"\n",
    "  Loads JPEG image into 3D Numpy array of shape (500, 500)\n",
    "  (width, height, channels)\n",
    "  \"\"\"\n",
    "  with Image.open(image_path) as image:         \n",
    "    im_arr = np.fromstring(image.resize((256,256)).tobytes(), dtype=np.uint8)\n",
    "    im_arr = im_arr.reshape((256, 256, 3))                                   \n",
    "  return im_arr"
   ]
  },
  {
   "cell_type": "code",
   "execution_count": 5,
   "metadata": {
    "ExecuteTime": {
     "end_time": "2018-03-18T13:12:18.866724Z",
     "start_time": "2018-03-18T13:12:18.681733Z"
    }
   },
   "outputs": [
    {
     "name": "stdout",
     "output_type": "stream",
     "text": [
      "10223\n"
     ]
    }
   ],
   "source": [
    "!cat ./labels.csv | wc -l "
   ]
  },
  {
   "cell_type": "code",
   "execution_count": 6,
   "metadata": {
    "ExecuteTime": {
     "end_time": "2018-03-18T13:12:18.898727Z",
     "start_time": "2018-03-18T13:12:18.870728Z"
    }
   },
   "outputs": [],
   "source": [
    "labels = pd.read_csv(\"./labels.csv\") "
   ]
  },
  {
   "cell_type": "code",
   "execution_count": 7,
   "metadata": {
    "ExecuteTime": {
     "end_time": "2018-03-18T13:12:18.909721Z",
     "start_time": "2018-03-18T13:12:18.902730Z"
    }
   },
   "outputs": [],
   "source": [
    "list_labels = sorted(list(labels.breed.unique()))"
   ]
  },
  {
   "cell_type": "code",
   "execution_count": 8,
   "metadata": {
    "ExecuteTime": {
     "end_time": "2018-03-18T13:12:18.921720Z",
     "start_time": "2018-03-18T13:12:18.911721Z"
    }
   },
   "outputs": [],
   "source": [
    "num_classes = len(list_labels)"
   ]
  },
  {
   "cell_type": "code",
   "execution_count": 9,
   "metadata": {
    "ExecuteTime": {
     "end_time": "2018-03-18T13:12:18.932720Z",
     "start_time": "2018-03-18T13:12:18.924721Z"
    }
   },
   "outputs": [],
   "source": [
    "data_tr = []\n",
    "label_tr = []"
   ]
  },
  {
   "cell_type": "code",
   "execution_count": 10,
   "metadata": {
    "ExecuteTime": {
     "end_time": "2018-03-18T13:13:57.335731Z",
     "start_time": "2018-03-18T13:12:18.934721Z"
    }
   },
   "outputs": [
    {
     "name": "stdout",
     "output_type": "stream",
     "text": [
      "0\n",
      "1000\n",
      "2000\n",
      "3000\n",
      "4000\n",
      "5000\n",
      "6000\n",
      "7000\n",
      "8000\n",
      "9000\n",
      "10000\n",
      "Done\n"
     ]
    }
   ],
   "source": [
    "with open(\"./labels.csv\", mode = 'r') as f:\n",
    "    lines = f.readlines()\n",
    "\n",
    "    for index, line in enumerate(lines[1:]):\n",
    "        \n",
    "        file_name, dog_name = line.strip().split(',')\n",
    "\n",
    "        data_tr.append(jpg_image_to_array('./train/' + file_name + '.jpg'))\n",
    "        label_tr.append(list_labels.index(dog_name))\n",
    "        \n",
    "        if index % 1000 == 0:\n",
    "            print(index)\n",
    "                       \n",
    "    data_tr = np.array(data_tr)\n",
    "    one_hot_labels = np_utils.to_categorical(label_tr)\n",
    "    \n",
    "    print('Done')\n"
   ]
  },
  {
   "cell_type": "code",
   "execution_count": 11,
   "metadata": {
    "ExecuteTime": {
     "end_time": "2018-03-18T13:13:58.805724Z",
     "start_time": "2018-03-18T13:13:57.338741Z"
    }
   },
   "outputs": [],
   "source": [
    "X_train, X_valid, Y_train, Y_valid = train_test_split(data_tr,\n",
    "                                                      one_hot_labels,\n",
    "                                                      test_size=0.3, random_state=1)"
   ]
  },
  {
   "cell_type": "code",
   "execution_count": 12,
   "metadata": {
    "ExecuteTime": {
     "end_time": "2018-03-18T13:13:58.812723Z",
     "start_time": "2018-03-18T13:13:58.808725Z"
    }
   },
   "outputs": [],
   "source": [
    "from keras.applications.inception_v3 import InceptionV3"
   ]
  },
  {
   "cell_type": "code",
   "execution_count": 13,
   "metadata": {
    "ExecuteTime": {
     "end_time": "2018-03-18T13:14:13.792729Z",
     "start_time": "2018-03-18T13:13:58.816723Z"
    }
   },
   "outputs": [],
   "source": [
    "base_model = InceptionV3(weights = 'imagenet', include_top=False, input_shape = (256, 256, 3))"
   ]
  },
  {
   "cell_type": "code",
   "execution_count": 14,
   "metadata": {
    "ExecuteTime": {
     "end_time": "2018-03-18T13:14:19.056753Z",
     "start_time": "2018-03-18T13:14:13.795739Z"
    }
   },
   "outputs": [],
   "source": [
    "x = base_model.output\n",
    "x = Flatten()(x)\n",
    "predictions = Dense(num_classes, activation='softmax')(x)\n",
    "\n",
    "# This is the model we will train\n",
    "model = Model(inputs=base_model.input, outputs=predictions)\n",
    "\n",
    "# First: train only the top layers (which were randomly initialized)\n",
    "for layer in base_model.layers:\n",
    "    layer.trainable = False\n",
    "\n",
    "model.compile(loss='categorical_crossentropy', \n",
    "              optimizer='adam', \n",
    "              metrics=['accuracy'])\n",
    "\n",
    "tensorboard = TensorBoard(log_dir='./log/inception_v3_2')"
   ]
  },
  {
   "cell_type": "code",
   "execution_count": 15,
   "metadata": {
    "ExecuteTime": {
     "end_time": "2018-03-18T13:40:36.051039Z",
     "start_time": "2018-03-18T13:14:19.059738Z"
    }
   },
   "outputs": [
    {
     "name": "stdout",
     "output_type": "stream",
     "text": [
      "Train on 7155 samples, validate on 3067 samples\n",
      "Epoch 1/20\n",
      "7155/7155 [==============================] - 84s 12ms/step - loss: 13.6208 - acc: 0.1318 - val_loss: 13.5610 - val_acc: 0.1490\n",
      "Epoch 2/20\n",
      "7155/7155 [==============================] - 73s 10ms/step - loss: 13.2003 - acc: 0.1719 - val_loss: 13.8079 - val_acc: 0.1363\n",
      "Epoch 3/20\n",
      "7155/7155 [==============================] - 82s 11ms/step - loss: 13.0455 - acc: 0.1836 - val_loss: 13.2890 - val_acc: 0.1669\n",
      "Epoch 4/20\n",
      "7155/7155 [==============================] - 81s 11ms/step - loss: 12.7786 - acc: 0.2007 - val_loss: 13.6012 - val_acc: 0.1487\n",
      "Epoch 5/20\n",
      "7155/7155 [==============================] - 76s 11ms/step - loss: 12.7415 - acc: 0.2042 - val_loss: 13.1967 - val_acc: 0.1744\n",
      "Epoch 6/20\n",
      "7155/7155 [==============================] - 70s 10ms/step - loss: 12.6554 - acc: 0.2102 - val_loss: 13.5053 - val_acc: 0.1585\n",
      "Epoch 7/20\n",
      "7155/7155 [==============================] - 71s 10ms/step - loss: 12.6343 - acc: 0.2117 - val_loss: 13.4257 - val_acc: 0.1624\n",
      "Epoch 8/20\n",
      "7155/7155 [==============================] - 80s 11ms/step - loss: 12.6532 - acc: 0.2117 - val_loss: 13.2774 - val_acc: 0.1712\n",
      "Epoch 9/20\n",
      "7155/7155 [==============================] - 79s 11ms/step - loss: 12.5757 - acc: 0.2157 - val_loss: 13.2122 - val_acc: 0.1751\n",
      "Epoch 10/20\n",
      "7155/7155 [==============================] - 78s 11ms/step - loss: 12.5171 - acc: 0.2212 - val_loss: 13.2408 - val_acc: 0.1754\n",
      "Epoch 11/20\n",
      "7155/7155 [==============================] - 76s 11ms/step - loss: 12.4258 - acc: 0.2263 - val_loss: 13.1875 - val_acc: 0.1784\n",
      "Epoch 12/20\n",
      "7155/7155 [==============================] - 82s 11ms/step - loss: 12.4602 - acc: 0.2233 - val_loss: 13.1838 - val_acc: 0.1764\n",
      "Epoch 13/20\n",
      "7155/7155 [==============================] - 81s 11ms/step - loss: 12.3917 - acc: 0.2294 - val_loss: 13.3186 - val_acc: 0.1699\n",
      "Epoch 14/20\n",
      "7155/7155 [==============================] - 79s 11ms/step - loss: 12.4868 - acc: 0.2228 - val_loss: 13.1626 - val_acc: 0.1797\n",
      "Epoch 15/20\n",
      "7155/7155 [==============================] - 79s 11ms/step - loss: 12.3541 - acc: 0.2313 - val_loss: 13.1409 - val_acc: 0.1793\n",
      "Epoch 16/20\n",
      "7155/7155 [==============================] - 79s 11ms/step - loss: 12.3310 - acc: 0.2330 - val_loss: 13.0561 - val_acc: 0.1872\n",
      "Epoch 17/20\n",
      "7155/7155 [==============================] - 80s 11ms/step - loss: 12.3678 - acc: 0.2310 - val_loss: 13.1690 - val_acc: 0.1803\n",
      "Epoch 18/20\n",
      "7155/7155 [==============================] - 77s 11ms/step - loss: 12.3836 - acc: 0.2299 - val_loss: 13.1606 - val_acc: 0.1806\n",
      "Epoch 19/20\n",
      "7155/7155 [==============================] - 79s 11ms/step - loss: 12.3564 - acc: 0.2306 - val_loss: 13.2802 - val_acc: 0.1738\n",
      "Epoch 20/20\n",
      "7155/7155 [==============================] - 79s 11ms/step - loss: 12.3855 - acc: 0.2292 - val_loss: 13.1937 - val_acc: 0.1780\n"
     ]
    },
    {
     "data": {
      "text/plain": [
       "<keras.callbacks.History at 0x27f0f324e10>"
      ]
     },
     "execution_count": 15,
     "metadata": {},
     "output_type": "execute_result"
    }
   ],
   "source": [
    "model.fit(X_train, Y_train, epochs=20, validation_data=(X_valid, Y_valid), verbose=1, callbacks = [tensorboard])"
   ]
  }
 ],
 "metadata": {
  "kernelspec": {
   "display_name": "Python 3",
   "language": "python",
   "name": "python3"
  },
  "language_info": {
   "codemirror_mode": {
    "name": "ipython",
    "version": 3
   },
   "file_extension": ".py",
   "mimetype": "text/x-python",
   "name": "python",
   "nbconvert_exporter": "python",
   "pygments_lexer": "ipython3",
   "version": "3.6.3"
  }
 },
 "nbformat": 4,
 "nbformat_minor": 2
}
